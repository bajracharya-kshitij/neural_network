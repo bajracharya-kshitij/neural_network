{
 "cells": [
  {
   "cell_type": "code",
   "execution_count": 1,
   "metadata": {},
   "outputs": [],
   "source": [
    "class InputAndWeight:\n",
    "    \n",
    "    def __init__(self, inp, weight):\n",
    "        self.input = int(inp)\n",
    "        self.weight = int(weight)"
   ]
  },
  {
   "cell_type": "code",
   "execution_count": 2,
   "metadata": {},
   "outputs": [],
   "source": [
    "class Neuron:\n",
    "    \n",
    "    def __init__(self, inputsAndWeights, threshold):\n",
    "        self.inputsAndWeights = inputsAndWeights\n",
    "        self.threshold = int(threshold)\n",
    "        self.output = 0\n",
    "            \n",
    "    def calculateOutput(self):\n",
    "        sumOfProducts = 0\n",
    "        for inputAndWeight in self.inputsAndWeights:\n",
    "            sumOfProducts += inputAndWeight.input * inputAndWeight.weight\n",
    "        if sumOfProducts > self.threshold:\n",
    "            return 1\n",
    "        return 0"
   ]
  },
  {
   "cell_type": "code",
   "execution_count": 3,
   "metadata": {},
   "outputs": [
    {
     "name": "stdout",
     "output_type": "stream",
     "text": [
      "How many inputs to the neuron? 3\n",
      "Input: 5\n",
      "Weight: 3\n",
      "Input: 3\n",
      "Weight: 1\n",
      "Input: 4\n",
      "Weight: 2\n",
      "What is the threshold value? 15\n",
      "The output for the neuron is 1\n"
     ]
    }
   ],
   "source": [
    "if __name__ == '__main__':\n",
    "    inputsWithWeights = []\n",
    "    noOfInputs = input('How many inputs to the neuron? ')\n",
    "    for n in range(int(noOfInputs)):\n",
    "        inp = input('Input: ')\n",
    "        weight = input('Weight: ')\n",
    "        inputWithWeight = InputAndWeight(inp, weight)\n",
    "        inputsWithWeights.append(inputWithWeight)\n",
    "    threshold = input('What is the threshold value? ')\n",
    "    neuron = Neuron(inputsWithWeights, threshold)\n",
    "    output = neuron.calculateOutput()\n",
    "    print(\"The output for the neuron is {}\".format(output))"
   ]
  }
 ],
 "metadata": {
  "kernelspec": {
   "display_name": "Python 3",
   "language": "python",
   "name": "python3"
  },
  "language_info": {
   "codemirror_mode": {
    "name": "ipython",
    "version": 3
   },
   "file_extension": ".py",
   "mimetype": "text/x-python",
   "name": "python",
   "nbconvert_exporter": "python",
   "pygments_lexer": "ipython3",
   "version": "3.6.4"
  }
 },
 "nbformat": 4,
 "nbformat_minor": 2
}
