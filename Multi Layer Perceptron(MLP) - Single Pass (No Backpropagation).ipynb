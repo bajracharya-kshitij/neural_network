{
 "cells": [
  {
   "cell_type": "code",
   "execution_count": 1,
   "metadata": {},
   "outputs": [],
   "source": [
    "import numpy as np"
   ]
  },
  {
   "cell_type": "code",
   "execution_count": 2,
   "metadata": {},
   "outputs": [],
   "source": [
    "class InputAndWeight:\n",
    "    \n",
    "    def __init__(self, inp, weight):\n",
    "        self.input = int(inp) if isinstance(inp, str) else inp\n",
    "        self.weight = int(weight) if isinstance(weight, str) else weight"
   ]
  },
  {
   "cell_type": "code",
   "execution_count": 3,
   "metadata": {},
   "outputs": [],
   "source": [
    "class Neuron:\n",
    "    \n",
    "    def __init__(self, inputsAndWeights, bias):\n",
    "        self.inputsAndWeights = inputsAndWeights\n",
    "        self.bias = int(bias) if isinstance(bias, str) else bias\n",
    "        self.output = 0\n",
    "            \n",
    "    def calculateOutput(self):\n",
    "        inputs = np.array([inputAndWeight.input for inputAndWeight in self.inputsAndWeights])\n",
    "        weights = np.array([inputAndWeight.weight for inputAndWeight in self.inputsAndWeights])\n",
    "        res = 0\n",
    "        for inputAndWeight in self.inputsAndWeights:\n",
    "            res += inputAndWeight.input * inputAndWeight.weight\n",
    "        sum_of_products = np.dot(inputs, weights)\n",
    "        self.output = self.sigmoid(sum_of_products - self.bias)\n",
    "        \n",
    "    def sigmoid(self, z):\n",
    "        return 1.0/(1+np.exp(-z))"
   ]
  },
  {
   "cell_type": "code",
   "execution_count": 4,
   "metadata": {},
   "outputs": [],
   "source": [
    "class Layer:\n",
    "    \n",
    "    def __init__(self, neurons):\n",
    "        self.neurons = neurons"
   ]
  },
  {
   "cell_type": "code",
   "execution_count": 5,
   "metadata": {},
   "outputs": [
    {
     "name": "stdout",
     "output_type": "stream",
     "text": [
      "How many layers? 4\n",
      "How many neurons in hidden layer 1?3\n",
      "How many inputs to the neuron? 2\n",
      "Input: 4\n",
      "Weight: 2\n",
      "Input: 3\n",
      "Weight: 1\n",
      "What is the bias? 10\n",
      "The output for the neuron is 0.7310585786300049\n",
      "How many inputs to the neuron? 2\n",
      "Input: 5\n",
      "Weight: 7\n",
      "Input: 3\n",
      "Weight: -2\n",
      "What is the bias? -5\n",
      "The output for the neuron is 0.9999999999999982\n",
      "How many inputs to the neuron? 2\n",
      "Input: 2\n",
      "Weight: 1\n",
      "Input: 2\n",
      "Weight: -1\n",
      "What is the bias? 3\n",
      "The output for the neuron is 0.04742587317756678\n",
      "How many neurons in hidden layer 2?2\n",
      "The weight for the input 0.7310585786300049 is 1\n",
      "The weight for the input 0.9999999999999982 is 0\n",
      "The weight for the input 0.04742587317756678 is 3\n",
      "The output for the neuron is 0.24477730983916232\n",
      "The weight for the input 0.7310585786300049 is 4\n",
      "The weight for the input 0.9999999999999982 is 1\n",
      "The weight for the input 0.04742587317756678 is 2\n",
      "The output for the neuron is 0.9823478184083752\n",
      "The weight for the input 0.24477730983916232 is 2\n",
      "The weight for the input 0.9823478184083752 is 2\n",
      "The output for the neuron is 0.9208717088025222\n",
      "The final output of the MLP is 0.9208717088025222\n"
     ]
    }
   ],
   "source": [
    "if __name__ == '__main__':\n",
    "    previousLayer = None\n",
    "    noOfLayers = input('How many layers? ')\n",
    "    output = 0\n",
    "    for l in range(int(noOfLayers)-1): #excluding the input layer\n",
    "        neurons = []\n",
    "        if l == int(noOfLayers)-2:\n",
    "            noOfNeurons = 1 #ouput neuron\n",
    "        else:\n",
    "            noOfNeurons = input(\"How many neurons in hidden layer {}?\".format(l+1))\n",
    "        for n in range(int(noOfNeurons)):\n",
    "            inputsWithWeights = []\n",
    "            if l==0:\n",
    "                noOfInputs = input('How many inputs to the neuron? ')\n",
    "                for i in range(int(noOfInputs)):\n",
    "                    inp = input('Input: ')\n",
    "                    weight = input('Weight: ')\n",
    "                    inputWithWeight = InputAndWeight(inp, weight)\n",
    "                    inputsWithWeights.append(inputWithWeight)\n",
    "                bias = input('What is the bias? ')  \n",
    "            else:\n",
    "                for neuron in previousLayer.neurons:\n",
    "                    inp = neuron.output\n",
    "                    weight = np.random.randint(5)\n",
    "                    print(\"The weight for the input {} is {}\".format(inp, weight))\n",
    "                    inputWithWeight = InputAndWeight(inp, weight)\n",
    "                    inputsWithWeights.append(inputWithWeight)\n",
    "                bias = np.random.randint(3)\n",
    "            neuron = Neuron(inputsWithWeights, bias)\n",
    "            neuron.calculateOutput()\n",
    "            neurons.append(neuron)\n",
    "            print(\"The output for the neuron is {}\".format(neuron.output))\n",
    "            output = neuron.output\n",
    "        previousLayer = Layer(neurons)\n",
    "    print('The final output of the MLP is', output)"
   ]
  }
 ],
 "metadata": {
  "kernelspec": {
   "display_name": "Python 3",
   "language": "python",
   "name": "python3"
  },
  "language_info": {
   "codemirror_mode": {
    "name": "ipython",
    "version": 3
   },
   "file_extension": ".py",
   "mimetype": "text/x-python",
   "name": "python",
   "nbconvert_exporter": "python",
   "pygments_lexer": "ipython3",
   "version": "3.6.4"
  }
 },
 "nbformat": 4,
 "nbformat_minor": 2
}
